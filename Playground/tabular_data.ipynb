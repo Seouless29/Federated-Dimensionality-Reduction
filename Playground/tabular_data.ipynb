{
 "cells": [
  {
   "cell_type": "code",
   "execution_count": 7,
   "metadata": {},
   "outputs": [],
   "source": [
    "import torch\n",
    "import torch.nn as nn\n",
    "import torch.optim as optim\n",
    "import numpy as np\n",
    "from torch.utils.data import DataLoader, TensorDataset\n",
    "from tabular_model import ArceneClassifier \n",
    "from sklearn.preprocessing import StandardScaler"
   ]
  },
  {
   "cell_type": "code",
   "execution_count": 8,
   "metadata": {},
   "outputs": [],
   "source": [
    "# loading function because labels and set are seperated. also change labels to 0 and 1\n",
    "def load_data(file_data, file_labels=None):\n",
    "    data = np.loadtxt(file_data)\n",
    "    if file_labels:\n",
    "        labels = np.loadtxt(file_labels)\n",
    "        labels = (labels + 1) / 2  \n",
    "        return data, labels\n",
    "    return data  "
   ]
  },
  {
   "cell_type": "code",
   "execution_count": 9,
   "metadata": {},
   "outputs": [],
   "source": [
    "X_train, y_train = load_data(\"data/arcene/arcene_train.data\", \"data/arcene/arcene_train.labels\")\n",
    "X_valid, y_valid = load_data(\"data/arcene/arcene_valid.data\", \"data/arcene/arcene_valid.labels\")\n",
    "X_test = load_data(\"data/arcene/arcene_test.data\")  \n",
    "\n",
    "# Normalize values\n",
    "scaler = StandardScaler()\n",
    "X_train = scaler.fit_transform(X_train)  \n",
    "X_valid = scaler.transform(X_valid)  \n",
    "X_test = scaler.transform(X_test)  \n",
    "\n",
    "X_train, y_train = torch.tensor(X_train, dtype=torch.float32), torch.tensor(y_train, dtype=torch.float32)\n",
    "X_valid, y_valid = torch.tensor(X_valid, dtype=torch.float32), torch.tensor(y_valid, dtype=torch.float32)\n",
    "X_test = torch.tensor(X_test, dtype=torch.float32)"
   ]
  },
  {
   "cell_type": "code",
   "execution_count": 10,
   "metadata": {},
   "outputs": [],
   "source": [
    "train_dataset = TensorDataset(X_train, y_train)\n",
    "train_loader = DataLoader(train_dataset, batch_size=16, shuffle=True)\n",
    "\n",
    "valid_dataset = TensorDataset(X_valid, y_valid)\n",
    "valid_loader = DataLoader(valid_dataset, batch_size=16, shuffle=False)"
   ]
  },
  {
   "cell_type": "code",
   "execution_count": 11,
   "metadata": {},
   "outputs": [],
   "source": [
    "# Model \n",
    "input_dim = X_train.shape[1]  # Number of features\n",
    "model = ArceneClassifier(input_dim)\n",
    "\n",
    "criterion = nn.BCELoss()  \n",
    "optimizer = optim.Adam(model.parameters(), lr=0.001)"
   ]
  },
  {
   "cell_type": "code",
   "execution_count": 12,
   "metadata": {},
   "outputs": [
    {
     "name": "stdout",
     "output_type": "stream",
     "text": [
      "Epoch 1/50, Loss: 5.3465\n",
      "Epoch 2/50, Loss: 3.4849\n",
      "Epoch 3/50, Loss: 2.5115\n",
      "Epoch 4/50, Loss: 0.8428\n",
      "Epoch 5/50, Loss: 0.1644\n",
      "Epoch 6/50, Loss: 0.0491\n",
      "Epoch 7/50, Loss: 0.0101\n",
      "Epoch 8/50, Loss: 0.0056\n",
      "Epoch 9/50, Loss: 0.0021\n",
      "Epoch 10/50, Loss: 0.0012\n",
      "Epoch 11/50, Loss: 0.0006\n",
      "Epoch 12/50, Loss: 0.0006\n",
      "Epoch 13/50, Loss: 0.0004\n",
      "Epoch 14/50, Loss: 0.0003\n",
      "Epoch 15/50, Loss: 0.0003\n",
      "Epoch 16/50, Loss: 0.0002\n",
      "Epoch 17/50, Loss: 0.0002\n",
      "Epoch 18/50, Loss: 0.0002\n",
      "Epoch 19/50, Loss: 0.0001\n",
      "Epoch 20/50, Loss: 0.0001\n",
      "Epoch 21/50, Loss: 0.0001\n",
      "Epoch 22/50, Loss: 0.0001\n",
      "Epoch 23/50, Loss: 0.0001\n",
      "Epoch 24/50, Loss: 0.0001\n",
      "Epoch 25/50, Loss: 0.0001\n",
      "Epoch 26/50, Loss: 0.0001\n",
      "Epoch 27/50, Loss: 0.0001\n",
      "Epoch 28/50, Loss: 0.0001\n",
      "Epoch 29/50, Loss: 0.0001\n",
      "Epoch 30/50, Loss: 0.0001\n",
      "Epoch 31/50, Loss: 0.0000\n",
      "Epoch 32/50, Loss: 0.0001\n",
      "Epoch 33/50, Loss: 0.0000\n",
      "Epoch 34/50, Loss: 0.0000\n",
      "Epoch 35/50, Loss: 0.0000\n",
      "Epoch 36/50, Loss: 0.0000\n",
      "Epoch 37/50, Loss: 0.0000\n",
      "Epoch 38/50, Loss: 0.0000\n",
      "Epoch 39/50, Loss: 0.0000\n",
      "Epoch 40/50, Loss: 0.0000\n",
      "Epoch 41/50, Loss: 0.0000\n",
      "Epoch 42/50, Loss: 0.0000\n",
      "Epoch 43/50, Loss: 0.0000\n",
      "Epoch 44/50, Loss: 0.0000\n",
      "Epoch 45/50, Loss: 0.0000\n",
      "Epoch 46/50, Loss: 0.0000\n",
      "Epoch 47/50, Loss: 0.0000\n",
      "Epoch 48/50, Loss: 0.0000\n",
      "Epoch 49/50, Loss: 0.0000\n",
      "Epoch 50/50, Loss: 0.0000\n"
     ]
    }
   ],
   "source": [
    "num_epochs = 50\n",
    "for epoch in range(num_epochs):\n",
    "    model.train()\n",
    "    total_loss = 0\n",
    "\n",
    "    for batch_X, batch_y in train_loader:\n",
    "        optimizer.zero_grad()\n",
    "        outputs = model(batch_X).squeeze()\n",
    "        loss = criterion(outputs, batch_y)\n",
    "        loss.backward()\n",
    "        optimizer.step()\n",
    "        total_loss += loss.item()\n",
    "\n",
    "\n",
    "    print(f\"Epoch {epoch+1}/{num_epochs}, Loss: {total_loss:.4f}\")\n"
   ]
  },
  {
   "cell_type": "code",
   "execution_count": 16,
   "metadata": {},
   "outputs": [],
   "source": [
    "# Validation step\n",
    "model.eval()\n",
    "correct, total = 0, 0\n",
    "with torch.no_grad():\n",
    "    for batch_X, batch_y in valid_loader:\n",
    "        outputs = model(batch_X).squeeze()\n",
    "        predicted = (outputs > 0.5).float()  # Convert probabilities to binary labels\n",
    "        correct += (predicted == batch_y).sum().item()\n",
    "        total += batch_y.size(0)\n",
    "\n",
    "accuracy = correct / total"
   ]
  },
  {
   "cell_type": "code",
   "execution_count": 17,
   "metadata": {},
   "outputs": [
    {
     "name": "stdout",
     "output_type": "stream",
     "text": [
      "0.77\n"
     ]
    }
   ],
   "source": [
    "print(accuracy)"
   ]
  },
  {
   "cell_type": "code",
   "execution_count": null,
   "metadata": {},
   "outputs": [],
   "source": [
    "# conclusion: useless dataset, model doesnt even take enough time for dimensionality reduction\n",
    "# if want to improve accuracy maybe worth a second try"
   ]
  }
 ],
 "metadata": {
  "kernelspec": {
   "display_name": "base",
   "language": "python",
   "name": "python3"
  },
  "language_info": {
   "codemirror_mode": {
    "name": "ipython",
    "version": 3
   },
   "file_extension": ".py",
   "mimetype": "text/x-python",
   "name": "python",
   "nbconvert_exporter": "python",
   "pygments_lexer": "ipython3",
   "version": "3.11.5"
  }
 },
 "nbformat": 4,
 "nbformat_minor": 2
}
