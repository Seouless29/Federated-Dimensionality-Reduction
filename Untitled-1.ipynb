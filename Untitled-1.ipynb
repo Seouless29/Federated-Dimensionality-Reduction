{
 "cells": [
  {
   "cell_type": "code",
   "execution_count": 1,
   "metadata": {},
   "outputs": [],
   "source": [
    "import numpy as np\n",
    "import tensorflow as tf\n",
    "import logging\n",
    "import os\n",
    "import random\n",
    "import torch\n",
    "from abc import ABC, abstractmethod\n",
    "import time\n",
    "from sklearn.manifold import TSNE\n",
    "from torch.utils.data import Dataset\n",
    "from torchvision import datasets, transforms\n",
    "import keras \n",
    "from keras.datasets import mnist\n",
    "from keras import backend as k\n",
    "from torch.utils.data import Subset, DataLoader\n",
    "import model\n",
    "import partition\n"
   ]
  },
  {
   "cell_type": "code",
   "execution_count": 2,
   "metadata": {},
   "outputs": [],
   "source": [
    "# Test for second model\n",
    "\n",
    "import torch\n",
    "import torchvision\n",
    "import torch.optim as optim\n",
    "from  model2 import classification_model\n",
    "import training "
   ]
  },
  {
   "cell_type": "code",
   "execution_count": 3,
   "metadata": {},
   "outputs": [
    {
     "data": {
      "text/plain": [
       "<torch._C.Generator at 0x18087fb6ed0>"
      ]
     },
     "execution_count": 3,
     "metadata": {},
     "output_type": "execute_result"
    }
   ],
   "source": [
    "n_epochs = 3\n",
    "batch_size_train = 64\n",
    "batch_size_test = 1000\n",
    "learning_rate = 0.01\n",
    "momentum = 0.5\n",
    "log_interval = 10\n",
    "\n",
    "random_seed = 1\n",
    "torch.backends.cudnn.enabled = False\n",
    "torch.manual_seed(random_seed)"
   ]
  },
  {
   "cell_type": "code",
   "execution_count": 4,
   "metadata": {},
   "outputs": [],
   "source": [
    "train_loader = torch.utils.data.DataLoader(\n",
    "  torchvision.datasets.MNIST('/files/', train=True, download=True,\n",
    "                             transform=torchvision.transforms.Compose([\n",
    "                               torchvision.transforms.ToTensor(),\n",
    "                               torchvision.transforms.Normalize(\n",
    "                                 (0.1307,), (0.3081,))\n",
    "                             ])),\n",
    "  batch_size=batch_size_train, shuffle=True)\n",
    "\n",
    "test_loader = torch.utils.data.DataLoader(\n",
    "  torchvision.datasets.MNIST('/files/', train=False, download=True,\n",
    "                             transform=torchvision.transforms.Compose([\n",
    "                               torchvision.transforms.ToTensor(),\n",
    "                               torchvision.transforms.Normalize(\n",
    "                                 (0.1307,), (0.3081,))\n",
    "                             ])),\n",
    "  batch_size=batch_size_test, shuffle=True)"
   ]
  },
  {
   "cell_type": "code",
   "execution_count": 5,
   "metadata": {},
   "outputs": [
    {
     "data": {
      "text/plain": [
       "torch.Size([1000, 1, 28, 28])"
      ]
     },
     "execution_count": 5,
     "metadata": {},
     "output_type": "execute_result"
    }
   ],
   "source": [
    "examples = enumerate(test_loader)\n",
    "batch_idx, (example_data, example_targets) = next(examples)\n",
    "example_data.shape\n"
   ]
  },
  {
   "cell_type": "code",
   "execution_count": 6,
   "metadata": {},
   "outputs": [],
   "source": [
    "train_dataset = train_loader.dataset\n",
    "test_dataset = test_loader.dataset\n"
   ]
  },
  {
   "cell_type": "code",
   "execution_count": 7,
   "metadata": {},
   "outputs": [
    {
     "name": "stdout",
     "output_type": "stream",
     "text": [
      "tensor([5, 0, 4,  ..., 5, 6, 8])\n"
     ]
    }
   ],
   "source": [
    "print(train_dataset.targets)"
   ]
  },
  {
   "cell_type": "code",
   "execution_count": 8,
   "metadata": {},
   "outputs": [],
   "source": [
    "network = classification_model()\n",
    "optimizer = optim.SGD(network.parameters(), lr=learning_rate,\n",
    "                      momentum=momentum)"
   ]
  },
  {
   "cell_type": "code",
   "execution_count": 9,
   "metadata": {},
   "outputs": [],
   "source": [
    "train_losses = []\n",
    "train_counter = []\n",
    "test_losses = []\n"
   ]
  },
  {
   "cell_type": "code",
   "execution_count": 10,
   "metadata": {},
   "outputs": [
    {
     "name": "stderr",
     "output_type": "stream",
     "text": [
      "c:\\Users\\micha\\Downloads\\Federated-Dimensionality-Reduction\\model2.py:21: UserWarning: Implicit dimension choice for log_softmax has been deprecated. Change the call to include dim=X as an argument.\n",
      "  return F.log_softmax(x)\n"
     ]
    },
    {
     "name": "stdout",
     "output_type": "stream",
     "text": [
      "Train Epoch: 1 [0/60000 (0%)]\tLoss: 2.319280\n",
      "Train Epoch: 1 [640/60000 (1%)]\tLoss: 2.290954\n",
      "Train Epoch: 1 [1280/60000 (2%)]\tLoss: 2.318535\n",
      "Train Epoch: 1 [1920/60000 (3%)]\tLoss: 2.261000\n",
      "Train Epoch: 1 [2560/60000 (4%)]\tLoss: 2.259137\n",
      "Train Epoch: 1 [3200/60000 (5%)]\tLoss: 2.229576\n",
      "Train Epoch: 1 [3840/60000 (6%)]\tLoss: 2.196151\n",
      "Train Epoch: 1 [4480/60000 (7%)]\tLoss: 2.181698\n",
      "Train Epoch: 1 [5120/60000 (9%)]\tLoss: 2.088444\n",
      "Train Epoch: 1 [5760/60000 (10%)]\tLoss: 2.014765\n",
      "Train Epoch: 1 [6400/60000 (11%)]\tLoss: 1.818533\n",
      "Train Epoch: 1 [7040/60000 (12%)]\tLoss: 1.822772\n",
      "Train Epoch: 1 [7680/60000 (13%)]\tLoss: 1.838733\n",
      "Train Epoch: 1 [8320/60000 (14%)]\tLoss: 1.530556\n",
      "Train Epoch: 1 [8960/60000 (15%)]\tLoss: 1.738141\n",
      "Train Epoch: 1 [9600/60000 (16%)]\tLoss: 1.420971\n",
      "Train Epoch: 1 [10240/60000 (17%)]\tLoss: 1.369237\n",
      "Train Epoch: 1 [10880/60000 (18%)]\tLoss: 1.335397\n",
      "Train Epoch: 1 [11520/60000 (19%)]\tLoss: 1.182360\n",
      "Train Epoch: 1 [12160/60000 (20%)]\tLoss: 1.056649\n",
      "Train Epoch: 1 [12800/60000 (21%)]\tLoss: 1.085397\n",
      "Train Epoch: 1 [13440/60000 (22%)]\tLoss: 1.043771\n",
      "Train Epoch: 1 [14080/60000 (23%)]\tLoss: 0.979950\n",
      "Train Epoch: 1 [14720/60000 (25%)]\tLoss: 1.015060\n",
      "Train Epoch: 1 [15360/60000 (26%)]\tLoss: 0.934762\n",
      "Train Epoch: 1 [16000/60000 (27%)]\tLoss: 0.879235\n",
      "Train Epoch: 1 [16640/60000 (28%)]\tLoss: 0.789030\n",
      "Train Epoch: 1 [17280/60000 (29%)]\tLoss: 0.978479\n",
      "Train Epoch: 1 [17920/60000 (30%)]\tLoss: 0.976566\n",
      "Train Epoch: 1 [18560/60000 (31%)]\tLoss: 0.967299\n",
      "Train Epoch: 1 [19200/60000 (32%)]\tLoss: 0.968967\n",
      "Train Epoch: 1 [19840/60000 (33%)]\tLoss: 0.947427\n",
      "Train Epoch: 1 [20480/60000 (34%)]\tLoss: 0.705324\n",
      "Train Epoch: 1 [21120/60000 (35%)]\tLoss: 0.849295\n",
      "Train Epoch: 1 [21760/60000 (36%)]\tLoss: 0.647372\n",
      "Train Epoch: 1 [22400/60000 (37%)]\tLoss: 0.743067\n",
      "Train Epoch: 1 [23040/60000 (38%)]\tLoss: 0.850625\n",
      "Train Epoch: 1 [23680/60000 (39%)]\tLoss: 0.618708\n",
      "Train Epoch: 1 [24320/60000 (41%)]\tLoss: 0.983943\n",
      "Train Epoch: 1 [24960/60000 (42%)]\tLoss: 0.523675\n",
      "Train Epoch: 1 [25600/60000 (43%)]\tLoss: 0.723865\n",
      "Train Epoch: 1 [26240/60000 (44%)]\tLoss: 0.713220\n",
      "Train Epoch: 1 [26880/60000 (45%)]\tLoss: 0.820493\n",
      "Train Epoch: 1 [27520/60000 (46%)]\tLoss: 0.837996\n",
      "Train Epoch: 1 [28160/60000 (47%)]\tLoss: 0.588513\n",
      "Train Epoch: 1 [28800/60000 (48%)]\tLoss: 0.609655\n",
      "Train Epoch: 1 [29440/60000 (49%)]\tLoss: 0.797120\n",
      "Train Epoch: 1 [30080/60000 (50%)]\tLoss: 0.421573\n",
      "Train Epoch: 1 [30720/60000 (51%)]\tLoss: 0.512918\n",
      "Train Epoch: 1 [31360/60000 (52%)]\tLoss: 0.556400\n",
      "Train Epoch: 1 [32000/60000 (53%)]\tLoss: 0.574294\n",
      "Train Epoch: 1 [32640/60000 (54%)]\tLoss: 0.581909\n",
      "Train Epoch: 1 [33280/60000 (55%)]\tLoss: 0.675214\n",
      "Train Epoch: 1 [33920/60000 (57%)]\tLoss: 0.645756\n",
      "Train Epoch: 1 [34560/60000 (58%)]\tLoss: 0.432297\n",
      "Train Epoch: 1 [35200/60000 (59%)]\tLoss: 0.720601\n",
      "Train Epoch: 1 [35840/60000 (60%)]\tLoss: 0.516641\n",
      "Train Epoch: 1 [36480/60000 (61%)]\tLoss: 0.435079\n",
      "Train Epoch: 1 [37120/60000 (62%)]\tLoss: 0.671169\n",
      "Train Epoch: 1 [37760/60000 (63%)]\tLoss: 0.580750\n",
      "Train Epoch: 1 [38400/60000 (64%)]\tLoss: 0.584666\n",
      "Train Epoch: 1 [39040/60000 (65%)]\tLoss: 0.517140\n",
      "Train Epoch: 1 [39680/60000 (66%)]\tLoss: 0.480301\n",
      "Train Epoch: 1 [40320/60000 (67%)]\tLoss: 0.635467\n",
      "Train Epoch: 1 [40960/60000 (68%)]\tLoss: 0.551975\n",
      "Train Epoch: 1 [41600/60000 (69%)]\tLoss: 0.807426\n",
      "Train Epoch: 1 [42240/60000 (70%)]\tLoss: 0.555370\n",
      "Train Epoch: 1 [42880/60000 (71%)]\tLoss: 0.554861\n",
      "Train Epoch: 1 [43520/60000 (72%)]\tLoss: 0.688652\n",
      "Train Epoch: 1 [44160/60000 (74%)]\tLoss: 0.561280\n",
      "Train Epoch: 1 [44800/60000 (75%)]\tLoss: 0.467175\n",
      "Train Epoch: 1 [45440/60000 (76%)]\tLoss: 0.451941\n",
      "Train Epoch: 1 [46080/60000 (77%)]\tLoss: 0.641040\n",
      "Train Epoch: 1 [46720/60000 (78%)]\tLoss: 0.448021\n",
      "Train Epoch: 1 [47360/60000 (79%)]\tLoss: 0.489647\n",
      "Train Epoch: 1 [48000/60000 (80%)]\tLoss: 0.534008\n",
      "Train Epoch: 1 [48640/60000 (81%)]\tLoss: 0.391461\n",
      "Train Epoch: 1 [49280/60000 (82%)]\tLoss: 0.627078\n",
      "Train Epoch: 1 [49920/60000 (83%)]\tLoss: 0.452750\n",
      "Train Epoch: 1 [50560/60000 (84%)]\tLoss: 0.369519\n",
      "Train Epoch: 1 [51200/60000 (85%)]\tLoss: 0.654729\n",
      "Train Epoch: 1 [51840/60000 (86%)]\tLoss: 0.402120\n",
      "Train Epoch: 1 [52480/60000 (87%)]\tLoss: 0.357444\n",
      "Train Epoch: 1 [53120/60000 (88%)]\tLoss: 0.389495\n",
      "Train Epoch: 1 [53760/60000 (90%)]\tLoss: 0.601488\n",
      "Train Epoch: 1 [54400/60000 (91%)]\tLoss: 0.396606\n",
      "Train Epoch: 1 [55040/60000 (92%)]\tLoss: 0.448854\n",
      "Train Epoch: 1 [55680/60000 (93%)]\tLoss: 0.373816\n",
      "Train Epoch: 1 [56320/60000 (94%)]\tLoss: 0.754650\n",
      "Train Epoch: 1 [56960/60000 (95%)]\tLoss: 0.472258\n",
      "Train Epoch: 1 [57600/60000 (96%)]\tLoss: 0.496882\n",
      "Train Epoch: 1 [58240/60000 (97%)]\tLoss: 0.319518\n",
      "Train Epoch: 1 [58880/60000 (98%)]\tLoss: 0.698996\n",
      "Train Epoch: 1 [59520/60000 (99%)]\tLoss: 0.414141\n"
     ]
    },
    {
     "name": "stderr",
     "output_type": "stream",
     "text": [
      "c:\\Users\\micha\\anaconda3\\Lib\\site-packages\\torch\\nn\\_reduction.py:42: UserWarning: size_average and reduce args will be deprecated, please use reduction='sum' instead.\n",
      "  warnings.warn(warning.format(ret))\n"
     ]
    },
    {
     "name": "stdout",
     "output_type": "stream",
     "text": [
      "\n",
      "Test set: Avg. loss: 0.1932, Accuracy: 9439/10000 (94%)\n",
      "\n",
      "Train Epoch: 2 [0/60000 (0%)]\tLoss: 0.670357\n",
      "Train Epoch: 2 [640/60000 (1%)]\tLoss: 0.449594\n",
      "Train Epoch: 2 [1280/60000 (2%)]\tLoss: 0.242963\n",
      "Train Epoch: 2 [1920/60000 (3%)]\tLoss: 0.480450\n",
      "Train Epoch: 2 [2560/60000 (4%)]\tLoss: 0.406802\n",
      "Train Epoch: 2 [3200/60000 (5%)]\tLoss: 0.725012\n",
      "Train Epoch: 2 [3840/60000 (6%)]\tLoss: 0.509003\n",
      "Train Epoch: 2 [4480/60000 (7%)]\tLoss: 0.648181\n",
      "Train Epoch: 2 [5120/60000 (9%)]\tLoss: 0.475273\n",
      "Train Epoch: 2 [5760/60000 (10%)]\tLoss: 0.542828\n",
      "Train Epoch: 2 [6400/60000 (11%)]\tLoss: 0.437132\n",
      "Train Epoch: 2 [7040/60000 (12%)]\tLoss: 0.346348\n",
      "Train Epoch: 2 [7680/60000 (13%)]\tLoss: 0.404189\n",
      "Train Epoch: 2 [8320/60000 (14%)]\tLoss: 0.413283\n",
      "Train Epoch: 2 [8960/60000 (15%)]\tLoss: 0.366155\n",
      "Train Epoch: 2 [9600/60000 (16%)]\tLoss: 0.585660\n",
      "Train Epoch: 2 [10240/60000 (17%)]\tLoss: 0.488517\n",
      "Train Epoch: 2 [10880/60000 (18%)]\tLoss: 0.344723\n",
      "Train Epoch: 2 [11520/60000 (19%)]\tLoss: 0.323275\n",
      "Train Epoch: 2 [12160/60000 (20%)]\tLoss: 0.621073\n",
      "Train Epoch: 2 [12800/60000 (21%)]\tLoss: 0.608764\n",
      "Train Epoch: 2 [13440/60000 (22%)]\tLoss: 0.260833\n",
      "Train Epoch: 2 [14080/60000 (23%)]\tLoss: 0.416562\n",
      "Train Epoch: 2 [14720/60000 (25%)]\tLoss: 0.463816\n",
      "Train Epoch: 2 [15360/60000 (26%)]\tLoss: 0.380985\n",
      "Train Epoch: 2 [16000/60000 (27%)]\tLoss: 0.295285\n",
      "Train Epoch: 2 [16640/60000 (28%)]\tLoss: 0.627989\n",
      "Train Epoch: 2 [17280/60000 (29%)]\tLoss: 0.567860\n",
      "Train Epoch: 2 [17920/60000 (30%)]\tLoss: 0.320605\n",
      "Train Epoch: 2 [18560/60000 (31%)]\tLoss: 0.370453\n",
      "Train Epoch: 2 [19200/60000 (32%)]\tLoss: 0.561304\n",
      "Train Epoch: 2 [19840/60000 (33%)]\tLoss: 0.237130\n",
      "Train Epoch: 2 [20480/60000 (34%)]\tLoss: 0.388725\n",
      "Train Epoch: 2 [21120/60000 (35%)]\tLoss: 0.407235\n",
      "Train Epoch: 2 [21760/60000 (36%)]\tLoss: 0.567114\n",
      "Train Epoch: 2 [22400/60000 (37%)]\tLoss: 0.260529\n",
      "Train Epoch: 2 [23040/60000 (38%)]\tLoss: 0.246072\n",
      "Train Epoch: 2 [23680/60000 (39%)]\tLoss: 0.444413\n",
      "Train Epoch: 2 [24320/60000 (41%)]\tLoss: 0.465276\n",
      "Train Epoch: 2 [24960/60000 (42%)]\tLoss: 0.306791\n",
      "Train Epoch: 2 [25600/60000 (43%)]\tLoss: 0.451866\n",
      "Train Epoch: 2 [26240/60000 (44%)]\tLoss: 0.415072\n",
      "Train Epoch: 2 [26880/60000 (45%)]\tLoss: 0.419882\n",
      "Train Epoch: 2 [27520/60000 (46%)]\tLoss: 0.321433\n",
      "Train Epoch: 2 [28160/60000 (47%)]\tLoss: 0.429887\n",
      "Train Epoch: 2 [28800/60000 (48%)]\tLoss: 0.330146\n",
      "Train Epoch: 2 [29440/60000 (49%)]\tLoss: 0.283807\n",
      "Train Epoch: 2 [30080/60000 (50%)]\tLoss: 0.453624\n",
      "Train Epoch: 2 [30720/60000 (51%)]\tLoss: 0.308324\n",
      "Train Epoch: 2 [31360/60000 (52%)]\tLoss: 0.386494\n",
      "Train Epoch: 2 [32000/60000 (53%)]\tLoss: 0.331962\n",
      "Train Epoch: 2 [32640/60000 (54%)]\tLoss: 0.432833\n",
      "Train Epoch: 2 [33280/60000 (55%)]\tLoss: 0.256930\n",
      "Train Epoch: 2 [33920/60000 (57%)]\tLoss: 0.323213\n",
      "Train Epoch: 2 [34560/60000 (58%)]\tLoss: 0.489144\n",
      "Train Epoch: 2 [35200/60000 (59%)]\tLoss: 0.326518\n",
      "Train Epoch: 2 [35840/60000 (60%)]\tLoss: 0.201832\n",
      "Train Epoch: 2 [36480/60000 (61%)]\tLoss: 0.441916\n",
      "Train Epoch: 2 [37120/60000 (62%)]\tLoss: 0.284961\n",
      "Train Epoch: 2 [37760/60000 (63%)]\tLoss: 0.516331\n",
      "Train Epoch: 2 [38400/60000 (64%)]\tLoss: 0.327323\n",
      "Train Epoch: 2 [39040/60000 (65%)]\tLoss: 0.303340\n",
      "Train Epoch: 2 [39680/60000 (66%)]\tLoss: 0.218147\n",
      "Train Epoch: 2 [40320/60000 (67%)]\tLoss: 0.288882\n",
      "Train Epoch: 2 [40960/60000 (68%)]\tLoss: 0.300530\n",
      "Train Epoch: 2 [41600/60000 (69%)]\tLoss: 0.286075\n",
      "Train Epoch: 2 [42240/60000 (70%)]\tLoss: 0.393746\n",
      "Train Epoch: 2 [42880/60000 (71%)]\tLoss: 0.434360\n",
      "Train Epoch: 2 [43520/60000 (72%)]\tLoss: 0.498460\n",
      "Train Epoch: 2 [44160/60000 (74%)]\tLoss: 0.344168\n",
      "Train Epoch: 2 [44800/60000 (75%)]\tLoss: 0.389154\n",
      "Train Epoch: 2 [45440/60000 (76%)]\tLoss: 0.176186\n",
      "Train Epoch: 2 [46080/60000 (77%)]\tLoss: 0.335870\n",
      "Train Epoch: 2 [46720/60000 (78%)]\tLoss: 0.315242\n",
      "Train Epoch: 2 [47360/60000 (79%)]\tLoss: 0.454470\n",
      "Train Epoch: 2 [48000/60000 (80%)]\tLoss: 0.373839\n",
      "Train Epoch: 2 [48640/60000 (81%)]\tLoss: 0.416603\n",
      "Train Epoch: 2 [49280/60000 (82%)]\tLoss: 0.453057\n",
      "Train Epoch: 2 [49920/60000 (83%)]\tLoss: 0.302266\n",
      "Train Epoch: 2 [50560/60000 (84%)]\tLoss: 0.342856\n",
      "Train Epoch: 2 [51200/60000 (85%)]\tLoss: 0.265914\n",
      "Train Epoch: 2 [51840/60000 (86%)]\tLoss: 0.246374\n",
      "Train Epoch: 2 [52480/60000 (87%)]\tLoss: 0.236541\n",
      "Train Epoch: 2 [53120/60000 (88%)]\tLoss: 0.330246\n",
      "Train Epoch: 2 [53760/60000 (90%)]\tLoss: 0.223344\n",
      "Train Epoch: 2 [54400/60000 (91%)]\tLoss: 0.248968\n",
      "Train Epoch: 2 [55040/60000 (92%)]\tLoss: 0.349365\n",
      "Train Epoch: 2 [55680/60000 (93%)]\tLoss: 0.190292\n",
      "Train Epoch: 2 [56320/60000 (94%)]\tLoss: 0.433924\n",
      "Train Epoch: 2 [56960/60000 (95%)]\tLoss: 0.151851\n",
      "Train Epoch: 2 [57600/60000 (96%)]\tLoss: 0.370340\n",
      "Train Epoch: 2 [58240/60000 (97%)]\tLoss: 0.351116\n",
      "Train Epoch: 2 [58880/60000 (98%)]\tLoss: 0.288695\n",
      "Train Epoch: 2 [59520/60000 (99%)]\tLoss: 0.515351\n",
      "\n",
      "Test set: Avg. loss: 0.1250, Accuracy: 9605/10000 (96%)\n",
      "\n",
      "Train Epoch: 3 [0/60000 (0%)]\tLoss: 0.206797\n",
      "Train Epoch: 3 [640/60000 (1%)]\tLoss: 0.218773\n",
      "Train Epoch: 3 [1280/60000 (2%)]\tLoss: 0.408553\n",
      "Train Epoch: 3 [1920/60000 (3%)]\tLoss: 0.263668\n",
      "Train Epoch: 3 [2560/60000 (4%)]\tLoss: 0.361860\n",
      "Train Epoch: 3 [3200/60000 (5%)]\tLoss: 0.309130\n",
      "Train Epoch: 3 [3840/60000 (6%)]\tLoss: 0.268503\n",
      "Train Epoch: 3 [4480/60000 (7%)]\tLoss: 0.452446\n",
      "Train Epoch: 3 [5120/60000 (9%)]\tLoss: 0.263454\n",
      "Train Epoch: 3 [5760/60000 (10%)]\tLoss: 0.259107\n",
      "Train Epoch: 3 [6400/60000 (11%)]\tLoss: 0.422369\n",
      "Train Epoch: 3 [7040/60000 (12%)]\tLoss: 0.344470\n",
      "Train Epoch: 3 [7680/60000 (13%)]\tLoss: 0.288024\n",
      "Train Epoch: 3 [8320/60000 (14%)]\tLoss: 0.270344\n",
      "Train Epoch: 3 [8960/60000 (15%)]\tLoss: 0.186345\n",
      "Train Epoch: 3 [9600/60000 (16%)]\tLoss: 0.294708\n",
      "Train Epoch: 3 [10240/60000 (17%)]\tLoss: 0.433453\n",
      "Train Epoch: 3 [10880/60000 (18%)]\tLoss: 0.507342\n",
      "Train Epoch: 3 [11520/60000 (19%)]\tLoss: 0.359515\n",
      "Train Epoch: 3 [12160/60000 (20%)]\tLoss: 0.190863\n",
      "Train Epoch: 3 [12800/60000 (21%)]\tLoss: 0.359057\n",
      "Train Epoch: 3 [13440/60000 (22%)]\tLoss: 0.192599\n",
      "Train Epoch: 3 [14080/60000 (23%)]\tLoss: 0.303383\n",
      "Train Epoch: 3 [14720/60000 (25%)]\tLoss: 0.321631\n",
      "Train Epoch: 3 [15360/60000 (26%)]\tLoss: 0.288857\n",
      "Train Epoch: 3 [16000/60000 (27%)]\tLoss: 0.372263\n",
      "Train Epoch: 3 [16640/60000 (28%)]\tLoss: 0.278717\n",
      "Train Epoch: 3 [17280/60000 (29%)]\tLoss: 0.383103\n",
      "Train Epoch: 3 [17920/60000 (30%)]\tLoss: 0.255831\n",
      "Train Epoch: 3 [18560/60000 (31%)]\tLoss: 0.326810\n",
      "Train Epoch: 3 [19200/60000 (32%)]\tLoss: 0.229808\n",
      "Train Epoch: 3 [19840/60000 (33%)]\tLoss: 0.331511\n",
      "Train Epoch: 3 [20480/60000 (34%)]\tLoss: 0.257907\n",
      "Train Epoch: 3 [21120/60000 (35%)]\tLoss: 0.590059\n",
      "Train Epoch: 3 [21760/60000 (36%)]\tLoss: 0.478302\n",
      "Train Epoch: 3 [22400/60000 (37%)]\tLoss: 0.319140\n",
      "Train Epoch: 3 [23040/60000 (38%)]\tLoss: 0.454677\n",
      "Train Epoch: 3 [23680/60000 (39%)]\tLoss: 0.368071\n",
      "Train Epoch: 3 [24320/60000 (41%)]\tLoss: 0.228742\n",
      "Train Epoch: 3 [24960/60000 (42%)]\tLoss: 0.255863\n",
      "Train Epoch: 3 [25600/60000 (43%)]\tLoss: 0.288439\n",
      "Train Epoch: 3 [26240/60000 (44%)]\tLoss: 0.247999\n",
      "Train Epoch: 3 [26880/60000 (45%)]\tLoss: 0.219619\n",
      "Train Epoch: 3 [27520/60000 (46%)]\tLoss: 0.325893\n",
      "Train Epoch: 3 [28160/60000 (47%)]\tLoss: 0.498132\n",
      "Train Epoch: 3 [28800/60000 (48%)]\tLoss: 0.258655\n",
      "Train Epoch: 3 [29440/60000 (49%)]\tLoss: 0.381177\n",
      "Train Epoch: 3 [30080/60000 (50%)]\tLoss: 0.416385\n",
      "Train Epoch: 3 [30720/60000 (51%)]\tLoss: 0.269811\n",
      "Train Epoch: 3 [31360/60000 (52%)]\tLoss: 0.221278\n",
      "Train Epoch: 3 [32000/60000 (53%)]\tLoss: 0.317993\n",
      "Train Epoch: 3 [32640/60000 (54%)]\tLoss: 0.385988\n",
      "Train Epoch: 3 [33280/60000 (55%)]\tLoss: 0.239674\n",
      "Train Epoch: 3 [33920/60000 (57%)]\tLoss: 0.494102\n",
      "Train Epoch: 3 [34560/60000 (58%)]\tLoss: 0.381065\n",
      "Train Epoch: 3 [35200/60000 (59%)]\tLoss: 0.231247\n",
      "Train Epoch: 3 [35840/60000 (60%)]\tLoss: 0.440707\n",
      "Train Epoch: 3 [36480/60000 (61%)]\tLoss: 0.138835\n",
      "Train Epoch: 3 [37120/60000 (62%)]\tLoss: 0.171955\n",
      "Train Epoch: 3 [37760/60000 (63%)]\tLoss: 0.523255\n",
      "Train Epoch: 3 [38400/60000 (64%)]\tLoss: 0.269847\n",
      "Train Epoch: 3 [39040/60000 (65%)]\tLoss: 0.171304\n",
      "Train Epoch: 3 [39680/60000 (66%)]\tLoss: 0.353534\n",
      "Train Epoch: 3 [40320/60000 (67%)]\tLoss: 0.218978\n",
      "Train Epoch: 3 [40960/60000 (68%)]\tLoss: 0.359148\n",
      "Train Epoch: 3 [41600/60000 (69%)]\tLoss: 0.194247\n",
      "Train Epoch: 3 [42240/60000 (70%)]\tLoss: 0.279782\n",
      "Train Epoch: 3 [42880/60000 (71%)]\tLoss: 0.296923\n",
      "Train Epoch: 3 [43520/60000 (72%)]\tLoss: 0.435110\n",
      "Train Epoch: 3 [44160/60000 (74%)]\tLoss: 0.219621\n",
      "Train Epoch: 3 [44800/60000 (75%)]\tLoss: 0.296380\n",
      "Train Epoch: 3 [45440/60000 (76%)]\tLoss: 0.279831\n",
      "Train Epoch: 3 [46080/60000 (77%)]\tLoss: 0.198473\n",
      "Train Epoch: 3 [46720/60000 (78%)]\tLoss: 0.387240\n",
      "Train Epoch: 3 [47360/60000 (79%)]\tLoss: 0.401912\n",
      "Train Epoch: 3 [48000/60000 (80%)]\tLoss: 0.332286\n",
      "Train Epoch: 3 [48640/60000 (81%)]\tLoss: 0.339340\n",
      "Train Epoch: 3 [49280/60000 (82%)]\tLoss: 0.255037\n",
      "Train Epoch: 3 [49920/60000 (83%)]\tLoss: 0.386487\n",
      "Train Epoch: 3 [50560/60000 (84%)]\tLoss: 0.129737\n",
      "Train Epoch: 3 [51200/60000 (85%)]\tLoss: 0.199468\n",
      "Train Epoch: 3 [51840/60000 (86%)]\tLoss: 0.284148\n",
      "Train Epoch: 3 [52480/60000 (87%)]\tLoss: 0.239553\n",
      "Train Epoch: 3 [53120/60000 (88%)]\tLoss: 0.218889\n",
      "Train Epoch: 3 [53760/60000 (90%)]\tLoss: 0.214211\n",
      "Train Epoch: 3 [54400/60000 (91%)]\tLoss: 0.162383\n",
      "Train Epoch: 3 [55040/60000 (92%)]\tLoss: 0.233544\n",
      "Train Epoch: 3 [55680/60000 (93%)]\tLoss: 0.260024\n",
      "Train Epoch: 3 [56320/60000 (94%)]\tLoss: 0.371683\n",
      "Train Epoch: 3 [56960/60000 (95%)]\tLoss: 0.567022\n",
      "Train Epoch: 3 [57600/60000 (96%)]\tLoss: 0.261803\n",
      "Train Epoch: 3 [58240/60000 (97%)]\tLoss: 0.174934\n",
      "Train Epoch: 3 [58880/60000 (98%)]\tLoss: 0.384246\n",
      "Train Epoch: 3 [59520/60000 (99%)]\tLoss: 0.161697\n",
      "\n",
      "Test set: Avg. loss: 0.1009, Accuracy: 9663/10000 (97%)\n",
      "\n"
     ]
    }
   ],
   "source": [
    "for epoch in range(1, n_epochs + 1):\n",
    "  training.train(epoch,network,train_loader,optimizer,log_interval,train_losses,train_counter)\n",
    "  training.test(network,test_loader,test_losses)"
   ]
  },
  {
   "cell_type": "code",
   "execution_count": 11,
   "metadata": {},
   "outputs": [
    {
     "name": "stdout",
     "output_type": "stream",
     "text": [
      "classification_model(\n",
      "  (conv1): Conv2d(1, 10, kernel_size=(5, 5), stride=(1, 1))\n",
      "  (conv2): Conv2d(10, 20, kernel_size=(5, 5), stride=(1, 1))\n",
      "  (conv2_drop): Dropout2d(p=0.5, inplace=False)\n",
      "  (fc1): Linear(in_features=320, out_features=50, bias=True)\n",
      "  (fc2): Linear(in_features=50, out_features=10, bias=True)\n",
      ")\n"
     ]
    }
   ],
   "source": [
    "print(network)"
   ]
  },
  {
   "cell_type": "markdown",
   "metadata": {},
   "source": [
    "# Old stuff"
   ]
  },
  {
   "cell_type": "markdown",
   "metadata": {},
   "source": [
    "# Data"
   ]
  },
  {
   "cell_type": "code",
   "execution_count": 1,
   "metadata": {},
   "outputs": [
    {
     "ename": "NameError",
     "evalue": "name 'mnist' is not defined",
     "output_type": "error",
     "traceback": [
      "\u001b[1;31m---------------------------------------------------------------------------\u001b[0m",
      "\u001b[1;31mNameError\u001b[0m                                 Traceback (most recent call last)",
      "Cell \u001b[1;32mIn[1], line 13\u001b[0m\n\u001b[0;32m      3\u001b[0m \u001b[38;5;124;03m\"\"\"\"\"\u001b[39;00m\n\u001b[0;32m      4\u001b[0m \u001b[38;5;124;03mtransform = transforms.Compose([transforms.ToTensor()])\u001b[39;00m\n\u001b[0;32m      5\u001b[0m \n\u001b[1;32m   (...)\u001b[0m\n\u001b[0;32m     10\u001b[0m \u001b[38;5;124;03mprint(f\"Data: {mnist_trainset.data.shape}, Targets: {mnist_trainset.targets.shape}\")\u001b[39;00m\n\u001b[0;32m     11\u001b[0m \u001b[38;5;124;03m\"\"\"\u001b[39;00m\u001b[38;5;124m\"\u001b[39m\u001b[38;5;124m\"\u001b[39m\n\u001b[0;32m     12\u001b[0m \u001b[38;5;66;03m# test data\u001b[39;00m\n\u001b[1;32m---> 13\u001b[0m (x_train, y_train), (x_test, y_test) \u001b[38;5;241m=\u001b[39m mnist\u001b[38;5;241m.\u001b[39mload_data()\n\u001b[0;32m     15\u001b[0m img_rows, img_cols\u001b[38;5;241m=\u001b[39m\u001b[38;5;241m28\u001b[39m, \u001b[38;5;241m28\u001b[39m\n\u001b[0;32m     17\u001b[0m \u001b[38;5;28;01mif\u001b[39;00m k\u001b[38;5;241m.\u001b[39mimage_data_format() \u001b[38;5;241m==\u001b[39m \u001b[38;5;124m'\u001b[39m\u001b[38;5;124mchannels_first\u001b[39m\u001b[38;5;124m'\u001b[39m:\n",
      "\u001b[1;31mNameError\u001b[0m: name 'mnist' is not defined"
     ]
    }
   ],
   "source": [
    "# Data Stuff\n",
    "# Set download to False if already downloaded\n",
    "\"\"\"\"\"\n",
    "transform = transforms.Compose([transforms.ToTensor()])\n",
    "\n",
    "# Load the MNIST dataset \n",
    "mnist_trainset = datasets.MNIST(root='./data', train=True, download=False, transform=transform)\n",
    "mnist_testset = datasets.MNIST(root='./data', train=False, download=False, transform=transform)\n",
    "\n",
    "print(f\"Data: {mnist_trainset.data.shape}, Targets: {mnist_trainset.targets.shape}\")\n",
    "\"\"\"\"\"\n",
    "# test data\n",
    "(x_train, y_train), (x_test, y_test) = mnist.load_data()\n",
    "\n",
    "img_rows, img_cols=28, 28\n",
    "\n",
    "if k.image_data_format() == 'channels_first':\n",
    "   x_train = x_train.reshape(x_train.shape[0], 1, img_rows, img_cols)\n",
    "   x_test = x_test.reshape(x_test.shape[0], 1, img_rows, img_cols)\n",
    "   inpx = (1, img_rows, img_cols)\n",
    "\n",
    "else:\n",
    "   x_train = x_train.reshape(x_train.shape[0], img_rows, img_cols, 1)\n",
    "   x_test = x_test.reshape(x_test.shape[0], img_rows, img_cols, 1)\n",
    "   inpx = (img_rows, img_cols, 1)\n",
    "\n",
    "x_train = x_train.astype('float32')\n",
    "x_test = x_test.astype('float32')\n",
    "x_train /= 255\n",
    "x_test /= 255"
   ]
  },
  {
   "cell_type": "code",
   "execution_count": null,
   "metadata": {},
   "outputs": [
    {
     "name": "stdout",
     "output_type": "stream",
     "text": [
      "(60000, 28, 28, 1)\n",
      "(60000,)\n",
      "<class 'numpy.ndarray'>\n",
      "[0 1 2 3 4 5 6 7 8 9]\n",
      "(28, 28, 1)\n"
     ]
    }
   ],
   "source": [
    "# Check data shapes. later create dataloader or something similar to handle data\n",
    "\n",
    "print(x_train.shape)\n",
    "print(y_train.shape)\n",
    "print(type(y_train))\n",
    "K = np.unique(y_train)\n",
    "print(K)\n",
    "print(inpx)"
   ]
  },
  {
   "cell_type": "code",
   "execution_count": null,
   "metadata": {},
   "outputs": [],
   "source": []
  },
  {
   "cell_type": "code",
   "execution_count": null,
   "metadata": {},
   "outputs": [],
   "source": [
    "\n",
    "train_dataset = partition.MNISTDataset(x_train, y_train)"
   ]
  },
  {
   "cell_type": "code",
   "execution_count": null,
   "metadata": {},
   "outputs": [],
   "source": []
  },
  {
   "cell_type": "markdown",
   "metadata": {},
   "source": [
    "# Initial Setup"
   ]
  },
  {
   "cell_type": "code",
   "execution_count": 5,
   "metadata": {},
   "outputs": [],
   "source": [
    "# Partition \n",
    "\n",
    "partitioned_data = partition.balanced_dirichlet_partition(train_dataset, partitions_number=10, alpha=0.5)\n",
    "partition_0_dataset = Subset(train_dataset, partitioned_data[0])"
   ]
  },
  {
   "cell_type": "code",
   "execution_count": 6,
   "metadata": {},
   "outputs": [
    {
     "name": "stdout",
     "output_type": "stream",
     "text": [
      "8115\n",
      "6299\n",
      "7690\n",
      "3996\n",
      "5373\n",
      "5975\n",
      "6862\n",
      "3842\n",
      "6307\n",
      "5541\n"
     ]
    }
   ],
   "source": [
    "# Check sizes\n",
    "\n",
    "for i in partitioned_data:\n",
    "    print(len(partitioned_data[i]))"
   ]
  },
  {
   "cell_type": "code",
   "execution_count": 7,
   "metadata": {},
   "outputs": [
    {
     "name": "stdout",
     "output_type": "stream",
     "text": [
      "x_train shape: (8115, 28, 28, 1)\n",
      "y_train shape: (8115,)\n"
     ]
    }
   ],
   "source": [
    "# Reformatting Subsets, loop for all\n",
    "\n",
    "x_train1, y_train1 = partition.reformat_dataset(partition_0_dataset)"
   ]
  },
  {
   "cell_type": "code",
   "execution_count": 8,
   "metadata": {},
   "outputs": [
    {
     "name": "stdout",
     "output_type": "stream",
     "text": [
      "[0 1 2 3 4 5 6 7 8 9]\n"
     ]
    }
   ],
   "source": [
    "# Check target classes of subclasses\n",
    "L = np.unique(y_train1)\n",
    "print(L)"
   ]
  },
  {
   "cell_type": "code",
   "execution_count": 9,
   "metadata": {},
   "outputs": [],
   "source": [
    "# Convert the labels for model\n",
    "\n",
    "y_train = keras.utils.to_categorical(y_train)\n",
    "\n",
    "y_train1 = keras.utils.to_categorical(y_train1)\n"
   ]
  },
  {
   "cell_type": "code",
   "execution_count": 10,
   "metadata": {},
   "outputs": [
    {
     "name": "stdout",
     "output_type": "stream",
     "text": [
      "(8115, 28, 28, 1)\n",
      "(8115, 10)\n"
     ]
    }
   ],
   "source": [
    "\n",
    "print(x_train1.shape)\n",
    "print(y_train1.shape)\n"
   ]
  },
  {
   "cell_type": "code",
   "execution_count": 11,
   "metadata": {},
   "outputs": [],
   "source": []
  },
  {
   "cell_type": "code",
   "execution_count": 12,
   "metadata": {},
   "outputs": [
    {
     "name": "stdout",
     "output_type": "stream",
     "text": [
      "Epoch 1/12\n",
      "\u001b[1m938/938\u001b[0m \u001b[32m━━━━━━━━━━━━━━━━━━━━\u001b[0m\u001b[37m\u001b[0m \u001b[1m25s\u001b[0m 25ms/step - accuracy: 0.1004 - loss: 2.5246\n",
      "Epoch 2/12\n",
      "\u001b[1m659/938\u001b[0m \u001b[32m━━━━━━━━━━━━━━\u001b[0m\u001b[37m━━━━━━\u001b[0m \u001b[1m6s\u001b[0m 25ms/step - accuracy: 0.0968 - loss: 2.4220"
     ]
    },
    {
     "ename": "KeyboardInterrupt",
     "evalue": "",
     "output_type": "error",
     "traceback": [
      "\u001b[1;31m---------------------------------------------------------------------------\u001b[0m",
      "\u001b[1;31mKeyboardInterrupt\u001b[0m                         Traceback (most recent call last)",
      "Cell \u001b[1;32mIn[12], line 1\u001b[0m\n\u001b[1;32m----> 1\u001b[0m model_1\u001b[38;5;241m.\u001b[39mtrain_model()\n",
      "File \u001b[1;32mc:\\Users\\micha\\Downloads\\Federated-Dimensionality-Reduction\\model.py:38\u001b[0m, in \u001b[0;36mClassificationModel.train_model\u001b[1;34m(self, epochs, batch_size)\u001b[0m\n\u001b[0;32m     35\u001b[0m \u001b[38;5;28;01mif\u001b[39;00m \u001b[38;5;28mself\u001b[39m\u001b[38;5;241m.\u001b[39mmodel \u001b[38;5;129;01mis\u001b[39;00m \u001b[38;5;28;01mNone\u001b[39;00m:\n\u001b[0;32m     36\u001b[0m     \u001b[38;5;28;01mraise\u001b[39;00m \u001b[38;5;167;01mValueError\u001b[39;00m(\u001b[38;5;124m\"\u001b[39m\u001b[38;5;124mThe model has not been built yet. Call build_model() first.\u001b[39m\u001b[38;5;124m\"\u001b[39m)\n\u001b[1;32m---> 38\u001b[0m \u001b[38;5;28mself\u001b[39m\u001b[38;5;241m.\u001b[39mmodel\u001b[38;5;241m.\u001b[39mfit(\u001b[38;5;28mself\u001b[39m\u001b[38;5;241m.\u001b[39mx_train, \u001b[38;5;28mself\u001b[39m\u001b[38;5;241m.\u001b[39my_train, epochs\u001b[38;5;241m=\u001b[39mepochs, batch_size\u001b[38;5;241m=\u001b[39mbatch_size)\n",
      "File \u001b[1;32mc:\\Users\\micha\\anaconda3\\Lib\\site-packages\\keras\\src\\utils\\traceback_utils.py:117\u001b[0m, in \u001b[0;36mfilter_traceback.<locals>.error_handler\u001b[1;34m(*args, **kwargs)\u001b[0m\n\u001b[0;32m    115\u001b[0m filtered_tb \u001b[38;5;241m=\u001b[39m \u001b[38;5;28;01mNone\u001b[39;00m\n\u001b[0;32m    116\u001b[0m \u001b[38;5;28;01mtry\u001b[39;00m:\n\u001b[1;32m--> 117\u001b[0m     \u001b[38;5;28;01mreturn\u001b[39;00m fn(\u001b[38;5;241m*\u001b[39margs, \u001b[38;5;241m*\u001b[39m\u001b[38;5;241m*\u001b[39mkwargs)\n\u001b[0;32m    118\u001b[0m \u001b[38;5;28;01mexcept\u001b[39;00m \u001b[38;5;167;01mException\u001b[39;00m \u001b[38;5;28;01mas\u001b[39;00m e:\n\u001b[0;32m    119\u001b[0m     filtered_tb \u001b[38;5;241m=\u001b[39m _process_traceback_frames(e\u001b[38;5;241m.\u001b[39m__traceback__)\n",
      "File \u001b[1;32mc:\\Users\\micha\\anaconda3\\Lib\\site-packages\\keras\\src\\backend\\tensorflow\\trainer.py:320\u001b[0m, in \u001b[0;36mTensorFlowTrainer.fit\u001b[1;34m(self, x, y, batch_size, epochs, verbose, callbacks, validation_split, validation_data, shuffle, class_weight, sample_weight, initial_epoch, steps_per_epoch, validation_steps, validation_batch_size, validation_freq)\u001b[0m\n\u001b[0;32m    318\u001b[0m \u001b[38;5;28;01mfor\u001b[39;00m step, iterator \u001b[38;5;129;01min\u001b[39;00m epoch_iterator\u001b[38;5;241m.\u001b[39menumerate_epoch():\n\u001b[0;32m    319\u001b[0m     callbacks\u001b[38;5;241m.\u001b[39mon_train_batch_begin(step)\n\u001b[1;32m--> 320\u001b[0m     logs \u001b[38;5;241m=\u001b[39m \u001b[38;5;28mself\u001b[39m\u001b[38;5;241m.\u001b[39mtrain_function(iterator)\n\u001b[0;32m    321\u001b[0m     logs \u001b[38;5;241m=\u001b[39m \u001b[38;5;28mself\u001b[39m\u001b[38;5;241m.\u001b[39m_pythonify_logs(logs)\n\u001b[0;32m    322\u001b[0m     callbacks\u001b[38;5;241m.\u001b[39mon_train_batch_end(step, logs)\n",
      "File \u001b[1;32mc:\\Users\\micha\\anaconda3\\Lib\\site-packages\\tensorflow\\python\\util\\traceback_utils.py:150\u001b[0m, in \u001b[0;36mfilter_traceback.<locals>.error_handler\u001b[1;34m(*args, **kwargs)\u001b[0m\n\u001b[0;32m    148\u001b[0m filtered_tb \u001b[38;5;241m=\u001b[39m \u001b[38;5;28;01mNone\u001b[39;00m\n\u001b[0;32m    149\u001b[0m \u001b[38;5;28;01mtry\u001b[39;00m:\n\u001b[1;32m--> 150\u001b[0m   \u001b[38;5;28;01mreturn\u001b[39;00m fn(\u001b[38;5;241m*\u001b[39margs, \u001b[38;5;241m*\u001b[39m\u001b[38;5;241m*\u001b[39mkwargs)\n\u001b[0;32m    151\u001b[0m \u001b[38;5;28;01mexcept\u001b[39;00m \u001b[38;5;167;01mException\u001b[39;00m \u001b[38;5;28;01mas\u001b[39;00m e:\n\u001b[0;32m    152\u001b[0m   filtered_tb \u001b[38;5;241m=\u001b[39m _process_traceback_frames(e\u001b[38;5;241m.\u001b[39m__traceback__)\n",
      "File \u001b[1;32mc:\\Users\\micha\\anaconda3\\Lib\\site-packages\\tensorflow\\python\\eager\\polymorphic_function\\polymorphic_function.py:833\u001b[0m, in \u001b[0;36mFunction.__call__\u001b[1;34m(self, *args, **kwds)\u001b[0m\n\u001b[0;32m    830\u001b[0m compiler \u001b[38;5;241m=\u001b[39m \u001b[38;5;124m\"\u001b[39m\u001b[38;5;124mxla\u001b[39m\u001b[38;5;124m\"\u001b[39m \u001b[38;5;28;01mif\u001b[39;00m \u001b[38;5;28mself\u001b[39m\u001b[38;5;241m.\u001b[39m_jit_compile \u001b[38;5;28;01melse\u001b[39;00m \u001b[38;5;124m\"\u001b[39m\u001b[38;5;124mnonXla\u001b[39m\u001b[38;5;124m\"\u001b[39m\n\u001b[0;32m    832\u001b[0m \u001b[38;5;28;01mwith\u001b[39;00m OptionalXlaContext(\u001b[38;5;28mself\u001b[39m\u001b[38;5;241m.\u001b[39m_jit_compile):\n\u001b[1;32m--> 833\u001b[0m   result \u001b[38;5;241m=\u001b[39m \u001b[38;5;28mself\u001b[39m\u001b[38;5;241m.\u001b[39m_call(\u001b[38;5;241m*\u001b[39margs, \u001b[38;5;241m*\u001b[39m\u001b[38;5;241m*\u001b[39mkwds)\n\u001b[0;32m    835\u001b[0m new_tracing_count \u001b[38;5;241m=\u001b[39m \u001b[38;5;28mself\u001b[39m\u001b[38;5;241m.\u001b[39mexperimental_get_tracing_count()\n\u001b[0;32m    836\u001b[0m without_tracing \u001b[38;5;241m=\u001b[39m (tracing_count \u001b[38;5;241m==\u001b[39m new_tracing_count)\n",
      "File \u001b[1;32mc:\\Users\\micha\\anaconda3\\Lib\\site-packages\\tensorflow\\python\\eager\\polymorphic_function\\polymorphic_function.py:878\u001b[0m, in \u001b[0;36mFunction._call\u001b[1;34m(self, *args, **kwds)\u001b[0m\n\u001b[0;32m    875\u001b[0m \u001b[38;5;28mself\u001b[39m\u001b[38;5;241m.\u001b[39m_lock\u001b[38;5;241m.\u001b[39mrelease()\n\u001b[0;32m    876\u001b[0m \u001b[38;5;66;03m# In this case we have not created variables on the first call. So we can\u001b[39;00m\n\u001b[0;32m    877\u001b[0m \u001b[38;5;66;03m# run the first trace but we should fail if variables are created.\u001b[39;00m\n\u001b[1;32m--> 878\u001b[0m results \u001b[38;5;241m=\u001b[39m tracing_compilation\u001b[38;5;241m.\u001b[39mcall_function(\n\u001b[0;32m    879\u001b[0m     args, kwds, \u001b[38;5;28mself\u001b[39m\u001b[38;5;241m.\u001b[39m_variable_creation_config\n\u001b[0;32m    880\u001b[0m )\n\u001b[0;32m    881\u001b[0m \u001b[38;5;28;01mif\u001b[39;00m \u001b[38;5;28mself\u001b[39m\u001b[38;5;241m.\u001b[39m_created_variables:\n\u001b[0;32m    882\u001b[0m   \u001b[38;5;28;01mraise\u001b[39;00m \u001b[38;5;167;01mValueError\u001b[39;00m(\u001b[38;5;124m\"\u001b[39m\u001b[38;5;124mCreating variables on a non-first call to a function\u001b[39m\u001b[38;5;124m\"\u001b[39m\n\u001b[0;32m    883\u001b[0m                    \u001b[38;5;124m\"\u001b[39m\u001b[38;5;124m decorated with tf.function.\u001b[39m\u001b[38;5;124m\"\u001b[39m)\n",
      "File \u001b[1;32mc:\\Users\\micha\\anaconda3\\Lib\\site-packages\\tensorflow\\python\\eager\\polymorphic_function\\tracing_compilation.py:139\u001b[0m, in \u001b[0;36mcall_function\u001b[1;34m(args, kwargs, tracing_options)\u001b[0m\n\u001b[0;32m    137\u001b[0m bound_args \u001b[38;5;241m=\u001b[39m function\u001b[38;5;241m.\u001b[39mfunction_type\u001b[38;5;241m.\u001b[39mbind(\u001b[38;5;241m*\u001b[39margs, \u001b[38;5;241m*\u001b[39m\u001b[38;5;241m*\u001b[39mkwargs)\n\u001b[0;32m    138\u001b[0m flat_inputs \u001b[38;5;241m=\u001b[39m function\u001b[38;5;241m.\u001b[39mfunction_type\u001b[38;5;241m.\u001b[39munpack_inputs(bound_args)\n\u001b[1;32m--> 139\u001b[0m \u001b[38;5;28;01mreturn\u001b[39;00m function\u001b[38;5;241m.\u001b[39m_call_flat(  \u001b[38;5;66;03m# pylint: disable=protected-access\u001b[39;00m\n\u001b[0;32m    140\u001b[0m     flat_inputs, captured_inputs\u001b[38;5;241m=\u001b[39mfunction\u001b[38;5;241m.\u001b[39mcaptured_inputs\n\u001b[0;32m    141\u001b[0m )\n",
      "File \u001b[1;32mc:\\Users\\micha\\anaconda3\\Lib\\site-packages\\tensorflow\\python\\eager\\polymorphic_function\\concrete_function.py:1322\u001b[0m, in \u001b[0;36mConcreteFunction._call_flat\u001b[1;34m(self, tensor_inputs, captured_inputs)\u001b[0m\n\u001b[0;32m   1318\u001b[0m possible_gradient_type \u001b[38;5;241m=\u001b[39m gradients_util\u001b[38;5;241m.\u001b[39mPossibleTapeGradientTypes(args)\n\u001b[0;32m   1319\u001b[0m \u001b[38;5;28;01mif\u001b[39;00m (possible_gradient_type \u001b[38;5;241m==\u001b[39m gradients_util\u001b[38;5;241m.\u001b[39mPOSSIBLE_GRADIENT_TYPES_NONE\n\u001b[0;32m   1320\u001b[0m     \u001b[38;5;129;01mand\u001b[39;00m executing_eagerly):\n\u001b[0;32m   1321\u001b[0m   \u001b[38;5;66;03m# No tape is watching; skip to running the function.\u001b[39;00m\n\u001b[1;32m-> 1322\u001b[0m   \u001b[38;5;28;01mreturn\u001b[39;00m \u001b[38;5;28mself\u001b[39m\u001b[38;5;241m.\u001b[39m_inference_function\u001b[38;5;241m.\u001b[39mcall_preflattened(args)\n\u001b[0;32m   1323\u001b[0m forward_backward \u001b[38;5;241m=\u001b[39m \u001b[38;5;28mself\u001b[39m\u001b[38;5;241m.\u001b[39m_select_forward_and_backward_functions(\n\u001b[0;32m   1324\u001b[0m     args,\n\u001b[0;32m   1325\u001b[0m     possible_gradient_type,\n\u001b[0;32m   1326\u001b[0m     executing_eagerly)\n\u001b[0;32m   1327\u001b[0m forward_function, args_with_tangents \u001b[38;5;241m=\u001b[39m forward_backward\u001b[38;5;241m.\u001b[39mforward()\n",
      "File \u001b[1;32mc:\\Users\\micha\\anaconda3\\Lib\\site-packages\\tensorflow\\python\\eager\\polymorphic_function\\atomic_function.py:216\u001b[0m, in \u001b[0;36mAtomicFunction.call_preflattened\u001b[1;34m(self, args)\u001b[0m\n\u001b[0;32m    214\u001b[0m \u001b[38;5;28;01mdef\u001b[39;00m \u001b[38;5;21mcall_preflattened\u001b[39m(\u001b[38;5;28mself\u001b[39m, args: Sequence[core\u001b[38;5;241m.\u001b[39mTensor]) \u001b[38;5;241m-\u001b[39m\u001b[38;5;241m>\u001b[39m Any:\n\u001b[0;32m    215\u001b[0m \u001b[38;5;250m  \u001b[39m\u001b[38;5;124;03m\"\"\"Calls with flattened tensor inputs and returns the structured output.\"\"\"\u001b[39;00m\n\u001b[1;32m--> 216\u001b[0m   flat_outputs \u001b[38;5;241m=\u001b[39m \u001b[38;5;28mself\u001b[39m\u001b[38;5;241m.\u001b[39mcall_flat(\u001b[38;5;241m*\u001b[39margs)\n\u001b[0;32m    217\u001b[0m   \u001b[38;5;28;01mreturn\u001b[39;00m \u001b[38;5;28mself\u001b[39m\u001b[38;5;241m.\u001b[39mfunction_type\u001b[38;5;241m.\u001b[39mpack_output(flat_outputs)\n",
      "File \u001b[1;32mc:\\Users\\micha\\anaconda3\\Lib\\site-packages\\tensorflow\\python\\eager\\polymorphic_function\\atomic_function.py:251\u001b[0m, in \u001b[0;36mAtomicFunction.call_flat\u001b[1;34m(self, *args)\u001b[0m\n\u001b[0;32m    249\u001b[0m \u001b[38;5;28;01mwith\u001b[39;00m record\u001b[38;5;241m.\u001b[39mstop_recording():\n\u001b[0;32m    250\u001b[0m   \u001b[38;5;28;01mif\u001b[39;00m \u001b[38;5;28mself\u001b[39m\u001b[38;5;241m.\u001b[39m_bound_context\u001b[38;5;241m.\u001b[39mexecuting_eagerly():\n\u001b[1;32m--> 251\u001b[0m     outputs \u001b[38;5;241m=\u001b[39m \u001b[38;5;28mself\u001b[39m\u001b[38;5;241m.\u001b[39m_bound_context\u001b[38;5;241m.\u001b[39mcall_function(\n\u001b[0;32m    252\u001b[0m         \u001b[38;5;28mself\u001b[39m\u001b[38;5;241m.\u001b[39mname,\n\u001b[0;32m    253\u001b[0m         \u001b[38;5;28mlist\u001b[39m(args),\n\u001b[0;32m    254\u001b[0m         \u001b[38;5;28mlen\u001b[39m(\u001b[38;5;28mself\u001b[39m\u001b[38;5;241m.\u001b[39mfunction_type\u001b[38;5;241m.\u001b[39mflat_outputs),\n\u001b[0;32m    255\u001b[0m     )\n\u001b[0;32m    256\u001b[0m   \u001b[38;5;28;01melse\u001b[39;00m:\n\u001b[0;32m    257\u001b[0m     outputs \u001b[38;5;241m=\u001b[39m make_call_op_in_graph(\n\u001b[0;32m    258\u001b[0m         \u001b[38;5;28mself\u001b[39m,\n\u001b[0;32m    259\u001b[0m         \u001b[38;5;28mlist\u001b[39m(args),\n\u001b[0;32m    260\u001b[0m         \u001b[38;5;28mself\u001b[39m\u001b[38;5;241m.\u001b[39m_bound_context\u001b[38;5;241m.\u001b[39mfunction_call_options\u001b[38;5;241m.\u001b[39mas_attrs(),\n\u001b[0;32m    261\u001b[0m     )\n",
      "File \u001b[1;32mc:\\Users\\micha\\anaconda3\\Lib\\site-packages\\tensorflow\\python\\eager\\context.py:1552\u001b[0m, in \u001b[0;36mContext.call_function\u001b[1;34m(self, name, tensor_inputs, num_outputs)\u001b[0m\n\u001b[0;32m   1550\u001b[0m cancellation_context \u001b[38;5;241m=\u001b[39m cancellation\u001b[38;5;241m.\u001b[39mcontext()\n\u001b[0;32m   1551\u001b[0m \u001b[38;5;28;01mif\u001b[39;00m cancellation_context \u001b[38;5;129;01mis\u001b[39;00m \u001b[38;5;28;01mNone\u001b[39;00m:\n\u001b[1;32m-> 1552\u001b[0m   outputs \u001b[38;5;241m=\u001b[39m execute\u001b[38;5;241m.\u001b[39mexecute(\n\u001b[0;32m   1553\u001b[0m       name\u001b[38;5;241m.\u001b[39mdecode(\u001b[38;5;124m\"\u001b[39m\u001b[38;5;124mutf-8\u001b[39m\u001b[38;5;124m\"\u001b[39m),\n\u001b[0;32m   1554\u001b[0m       num_outputs\u001b[38;5;241m=\u001b[39mnum_outputs,\n\u001b[0;32m   1555\u001b[0m       inputs\u001b[38;5;241m=\u001b[39mtensor_inputs,\n\u001b[0;32m   1556\u001b[0m       attrs\u001b[38;5;241m=\u001b[39mattrs,\n\u001b[0;32m   1557\u001b[0m       ctx\u001b[38;5;241m=\u001b[39m\u001b[38;5;28mself\u001b[39m,\n\u001b[0;32m   1558\u001b[0m   )\n\u001b[0;32m   1559\u001b[0m \u001b[38;5;28;01melse\u001b[39;00m:\n\u001b[0;32m   1560\u001b[0m   outputs \u001b[38;5;241m=\u001b[39m execute\u001b[38;5;241m.\u001b[39mexecute_with_cancellation(\n\u001b[0;32m   1561\u001b[0m       name\u001b[38;5;241m.\u001b[39mdecode(\u001b[38;5;124m\"\u001b[39m\u001b[38;5;124mutf-8\u001b[39m\u001b[38;5;124m\"\u001b[39m),\n\u001b[0;32m   1562\u001b[0m       num_outputs\u001b[38;5;241m=\u001b[39mnum_outputs,\n\u001b[1;32m   (...)\u001b[0m\n\u001b[0;32m   1566\u001b[0m       cancellation_manager\u001b[38;5;241m=\u001b[39mcancellation_context,\n\u001b[0;32m   1567\u001b[0m   )\n",
      "File \u001b[1;32mc:\\Users\\micha\\anaconda3\\Lib\\site-packages\\tensorflow\\python\\eager\\execute.py:53\u001b[0m, in \u001b[0;36mquick_execute\u001b[1;34m(op_name, num_outputs, inputs, attrs, ctx, name)\u001b[0m\n\u001b[0;32m     51\u001b[0m \u001b[38;5;28;01mtry\u001b[39;00m:\n\u001b[0;32m     52\u001b[0m   ctx\u001b[38;5;241m.\u001b[39mensure_initialized()\n\u001b[1;32m---> 53\u001b[0m   tensors \u001b[38;5;241m=\u001b[39m pywrap_tfe\u001b[38;5;241m.\u001b[39mTFE_Py_Execute(ctx\u001b[38;5;241m.\u001b[39m_handle, device_name, op_name,\n\u001b[0;32m     54\u001b[0m                                       inputs, attrs, num_outputs)\n\u001b[0;32m     55\u001b[0m \u001b[38;5;28;01mexcept\u001b[39;00m core\u001b[38;5;241m.\u001b[39m_NotOkStatusException \u001b[38;5;28;01mas\u001b[39;00m e:\n\u001b[0;32m     56\u001b[0m   \u001b[38;5;28;01mif\u001b[39;00m name \u001b[38;5;129;01mis\u001b[39;00m \u001b[38;5;129;01mnot\u001b[39;00m \u001b[38;5;28;01mNone\u001b[39;00m:\n",
      "\u001b[1;31mKeyboardInterrupt\u001b[0m: "
     ]
    }
   ],
   "source": []
  },
  {
   "cell_type": "code",
   "execution_count": null,
   "metadata": {},
   "outputs": [],
   "source": []
  }
 ],
 "metadata": {
  "kernelspec": {
   "display_name": "base",
   "language": "python",
   "name": "python3"
  },
  "language_info": {
   "codemirror_mode": {
    "name": "ipython",
    "version": 3
   },
   "file_extension": ".py",
   "mimetype": "text/x-python",
   "name": "python",
   "nbconvert_exporter": "python",
   "pygments_lexer": "ipython3",
   "version": "3.11.5"
  }
 },
 "nbformat": 4,
 "nbformat_minor": 4
}
